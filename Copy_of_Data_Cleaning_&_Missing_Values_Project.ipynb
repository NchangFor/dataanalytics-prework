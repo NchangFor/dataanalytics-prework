{
  "nbformat": 4,
  "nbformat_minor": 0,
  "metadata": {
    "colab": {
      "name": "Copy of Data Cleaning & Missing Values - Project.ipynb",
      "provenance": [],
      "collapsed_sections": [],
      "include_colab_link": true
    },
    "kernelspec": {
      "name": "python3",
      "display_name": "Python 3"
    }
  },
  "cells": [
    {
      "cell_type": "markdown",
      "metadata": {
        "id": "view-in-github",
        "colab_type": "text"
      },
      "source": [
        "<a href=\"https://colab.research.google.com/github/NchangFor/dataanalytics-prework/blob/main/Copy_of_Data_Cleaning_%26_Missing_Values_Project.ipynb\" target=\"_parent\"><img src=\"https://colab.research.google.com/assets/colab-badge.svg\" alt=\"Open In Colab\"/></a>"
      ]
    },
    {
      "cell_type": "markdown",
      "metadata": {
        "id": "2zxREd_otAge"
      },
      "source": [
        "![Immoscout](https://raw.githubusercontent.com/juliandnl/redi_ss20/master/image.png)"
      ]
    },
    {
      "cell_type": "markdown",
      "metadata": {
        "id": "YAmw_s-VtIaV"
      },
      "source": [
        "# Project - Cleaning the Expanded Immobilien Scout 24 Dataset\n",
        "\n",
        "--- \n",
        "After exploring the original dataset and trying to build a predictive model with it, it was discovered that we need more data. Unfortunately we lost access to Immobilien Scout's API so we had to scrape the data. While this worked, the data is quite messy and needs to be cleaned before we can use it. In this exercise you'll clean the remaining of the data."
      ]
    },
    {
      "cell_type": "code",
      "metadata": {
        "id": "cDxFVRHbq6eR"
      },
      "source": [
        "import numpy as np\n",
        "import pandas as pd\n",
        "import plotly.express as px"
      ],
      "execution_count": null,
      "outputs": []
    },
    {
      "cell_type": "code",
      "source": [
        "df = pd.read_pickle(\"https://github.com/ReDI-School/nrw-data-analytics/raw/main/8_berlin_housing_with_scraped_class_cleaned.pkl\")\n",
        "df.head()"
      ],
      "metadata": {
        "colab": {
          "base_uri": "https://localhost:8080/",
          "height": 438
        },
        "id": "RL4RIj2TVjfz",
        "outputId": "8f820f62-c356-44e2-9205-3c470632d272"
      },
      "execution_count": null,
      "outputs": [
        {
          "output_type": "execute_result",
          "data": {
            "text/plain": [
              "                                                 url       region  \\\n",
              "0  https://www.immobilienscout24.de/expose/116051687        Mitte   \n",
              "1  https://www.immobilienscout24.de/expose/115338103    Kreuzberg   \n",
              "2  https://www.immobilienscout24.de/expose/116458710     Köpenick   \n",
              "3  https://www.immobilienscout24.de/expose/116573177  Wilmersdorf   \n",
              "4  https://www.immobilienscout24.de/expose/115925878    Kreuzberg   \n",
              "\n",
              "        condition  rooms     rent  year_construction   space    cold_rent  \\\n",
              "0  first_time_use    4.0  2659.00               2019  117.20  2199.000000   \n",
              "1  first_time_use    1.0  1200.00               2020   29.33   973.510000   \n",
              "2       well_kept    2.0   979.00               1997   83.61   799.000000   \n",
              "3       well_kept    4.0  1830.22               1900  171.18   911.544216   \n",
              "4  first_time_use    2.0  2272.00               2020   88.27  1131.573505   \n",
              "\n",
              "  utilities heating_costs  ... property_condition         furnishing  \\\n",
              "0     +460€            in  ...                New                NaN   \n",
              "1  +226,49€            in  ...                New  Gehobene Qualität   \n",
              "2      +90€          +90€  ...            Groomed   Normale Qualität   \n",
              "3       NaN           NaN  ...            Unknown                NaN   \n",
              "4       NaN           NaN  ...                New  Gehobene Qualität   \n",
              "\n",
              "         heating_type                                     energy_sources  \\\n",
              "0  Underfloor Heating                                                NaN   \n",
              "1     Central Heating                 Fernwärme Energieausweis liegt vor   \n",
              "2     Central Heating                 Fernwärme Energieausweis liegt vor   \n",
              "3                 NaN                                                NaN   \n",
              "4     Central Heating  Fernwärme Energieausweis liegt zur Besichtigun...   \n",
              "\n",
              "           energy_certificate  \\\n",
              "0                         NaN   \n",
              "1                   liegt vor   \n",
              "2                   liegt vor   \n",
              "3                         NaN   \n",
              "4  liegt zur Besichtigung vor   \n",
              "\n",
              "                                 type_of_certificate energy_requirement  \\\n",
              "0                                     Bedarfsausweis                NaN   \n",
              "1                                                NaN                NaN   \n",
              "2  Verbrauchsausweis Energie­ver­brauchs­kennwert...                NaN   \n",
              "3                                                NaN                NaN   \n",
              "4                                                NaN                NaN   \n",
              "\n",
              "  efficiency_class deposit_cleaned n_missing  \n",
              "0                B         7977.00         5  \n",
              "1              NaN         2920.53         5  \n",
              "2              NaN         2937.00         4  \n",
              "3              NaN         5490.66        13  \n",
              "4              NaN         6816.00         8  \n",
              "\n",
              "[5 rows x 23 columns]"
            ],
            "text/html": [
              "\n",
              "  <div id=\"df-8b4f6894-a19e-4761-ac4d-397582c52862\">\n",
              "    <div class=\"colab-df-container\">\n",
              "      <div>\n",
              "<style scoped>\n",
              "    .dataframe tbody tr th:only-of-type {\n",
              "        vertical-align: middle;\n",
              "    }\n",
              "\n",
              "    .dataframe tbody tr th {\n",
              "        vertical-align: top;\n",
              "    }\n",
              "\n",
              "    .dataframe thead th {\n",
              "        text-align: right;\n",
              "    }\n",
              "</style>\n",
              "<table border=\"1\" class=\"dataframe\">\n",
              "  <thead>\n",
              "    <tr style=\"text-align: right;\">\n",
              "      <th></th>\n",
              "      <th>url</th>\n",
              "      <th>region</th>\n",
              "      <th>condition</th>\n",
              "      <th>rooms</th>\n",
              "      <th>rent</th>\n",
              "      <th>year_construction</th>\n",
              "      <th>space</th>\n",
              "      <th>cold_rent</th>\n",
              "      <th>utilities</th>\n",
              "      <th>heating_costs</th>\n",
              "      <th>...</th>\n",
              "      <th>property_condition</th>\n",
              "      <th>furnishing</th>\n",
              "      <th>heating_type</th>\n",
              "      <th>energy_sources</th>\n",
              "      <th>energy_certificate</th>\n",
              "      <th>type_of_certificate</th>\n",
              "      <th>energy_requirement</th>\n",
              "      <th>efficiency_class</th>\n",
              "      <th>deposit_cleaned</th>\n",
              "      <th>n_missing</th>\n",
              "    </tr>\n",
              "  </thead>\n",
              "  <tbody>\n",
              "    <tr>\n",
              "      <th>0</th>\n",
              "      <td>https://www.immobilienscout24.de/expose/116051687</td>\n",
              "      <td>Mitte</td>\n",
              "      <td>first_time_use</td>\n",
              "      <td>4.0</td>\n",
              "      <td>2659.00</td>\n",
              "      <td>2019</td>\n",
              "      <td>117.20</td>\n",
              "      <td>2199.000000</td>\n",
              "      <td>+460€</td>\n",
              "      <td>in</td>\n",
              "      <td>...</td>\n",
              "      <td>New</td>\n",
              "      <td>NaN</td>\n",
              "      <td>Underfloor Heating</td>\n",
              "      <td>NaN</td>\n",
              "      <td>NaN</td>\n",
              "      <td>Bedarfsausweis</td>\n",
              "      <td>NaN</td>\n",
              "      <td>B</td>\n",
              "      <td>7977.00</td>\n",
              "      <td>5</td>\n",
              "    </tr>\n",
              "    <tr>\n",
              "      <th>1</th>\n",
              "      <td>https://www.immobilienscout24.de/expose/115338103</td>\n",
              "      <td>Kreuzberg</td>\n",
              "      <td>first_time_use</td>\n",
              "      <td>1.0</td>\n",
              "      <td>1200.00</td>\n",
              "      <td>2020</td>\n",
              "      <td>29.33</td>\n",
              "      <td>973.510000</td>\n",
              "      <td>+226,49€</td>\n",
              "      <td>in</td>\n",
              "      <td>...</td>\n",
              "      <td>New</td>\n",
              "      <td>Gehobene Qualität</td>\n",
              "      <td>Central Heating</td>\n",
              "      <td>Fernwärme Energieausweis liegt vor</td>\n",
              "      <td>liegt vor</td>\n",
              "      <td>NaN</td>\n",
              "      <td>NaN</td>\n",
              "      <td>NaN</td>\n",
              "      <td>2920.53</td>\n",
              "      <td>5</td>\n",
              "    </tr>\n",
              "    <tr>\n",
              "      <th>2</th>\n",
              "      <td>https://www.immobilienscout24.de/expose/116458710</td>\n",
              "      <td>Köpenick</td>\n",
              "      <td>well_kept</td>\n",
              "      <td>2.0</td>\n",
              "      <td>979.00</td>\n",
              "      <td>1997</td>\n",
              "      <td>83.61</td>\n",
              "      <td>799.000000</td>\n",
              "      <td>+90€</td>\n",
              "      <td>+90€</td>\n",
              "      <td>...</td>\n",
              "      <td>Groomed</td>\n",
              "      <td>Normale Qualität</td>\n",
              "      <td>Central Heating</td>\n",
              "      <td>Fernwärme Energieausweis liegt vor</td>\n",
              "      <td>liegt vor</td>\n",
              "      <td>Verbrauchsausweis Energie­ver­brauchs­kennwert...</td>\n",
              "      <td>NaN</td>\n",
              "      <td>NaN</td>\n",
              "      <td>2937.00</td>\n",
              "      <td>4</td>\n",
              "    </tr>\n",
              "    <tr>\n",
              "      <th>3</th>\n",
              "      <td>https://www.immobilienscout24.de/expose/116573177</td>\n",
              "      <td>Wilmersdorf</td>\n",
              "      <td>well_kept</td>\n",
              "      <td>4.0</td>\n",
              "      <td>1830.22</td>\n",
              "      <td>1900</td>\n",
              "      <td>171.18</td>\n",
              "      <td>911.544216</td>\n",
              "      <td>NaN</td>\n",
              "      <td>NaN</td>\n",
              "      <td>...</td>\n",
              "      <td>Unknown</td>\n",
              "      <td>NaN</td>\n",
              "      <td>NaN</td>\n",
              "      <td>NaN</td>\n",
              "      <td>NaN</td>\n",
              "      <td>NaN</td>\n",
              "      <td>NaN</td>\n",
              "      <td>NaN</td>\n",
              "      <td>5490.66</td>\n",
              "      <td>13</td>\n",
              "    </tr>\n",
              "    <tr>\n",
              "      <th>4</th>\n",
              "      <td>https://www.immobilienscout24.de/expose/115925878</td>\n",
              "      <td>Kreuzberg</td>\n",
              "      <td>first_time_use</td>\n",
              "      <td>2.0</td>\n",
              "      <td>2272.00</td>\n",
              "      <td>2020</td>\n",
              "      <td>88.27</td>\n",
              "      <td>1131.573505</td>\n",
              "      <td>NaN</td>\n",
              "      <td>NaN</td>\n",
              "      <td>...</td>\n",
              "      <td>New</td>\n",
              "      <td>Gehobene Qualität</td>\n",
              "      <td>Central Heating</td>\n",
              "      <td>Fernwärme Energieausweis liegt zur Besichtigun...</td>\n",
              "      <td>liegt zur Besichtigung vor</td>\n",
              "      <td>NaN</td>\n",
              "      <td>NaN</td>\n",
              "      <td>NaN</td>\n",
              "      <td>6816.00</td>\n",
              "      <td>8</td>\n",
              "    </tr>\n",
              "  </tbody>\n",
              "</table>\n",
              "<p>5 rows × 23 columns</p>\n",
              "</div>\n",
              "      <button class=\"colab-df-convert\" onclick=\"convertToInteractive('df-8b4f6894-a19e-4761-ac4d-397582c52862')\"\n",
              "              title=\"Convert this dataframe to an interactive table.\"\n",
              "              style=\"display:none;\">\n",
              "        \n",
              "  <svg xmlns=\"http://www.w3.org/2000/svg\" height=\"24px\"viewBox=\"0 0 24 24\"\n",
              "       width=\"24px\">\n",
              "    <path d=\"M0 0h24v24H0V0z\" fill=\"none\"/>\n",
              "    <path d=\"M18.56 5.44l.94 2.06.94-2.06 2.06-.94-2.06-.94-.94-2.06-.94 2.06-2.06.94zm-11 1L8.5 8.5l.94-2.06 2.06-.94-2.06-.94L8.5 2.5l-.94 2.06-2.06.94zm10 10l.94 2.06.94-2.06 2.06-.94-2.06-.94-.94-2.06-.94 2.06-2.06.94z\"/><path d=\"M17.41 7.96l-1.37-1.37c-.4-.4-.92-.59-1.43-.59-.52 0-1.04.2-1.43.59L10.3 9.45l-7.72 7.72c-.78.78-.78 2.05 0 2.83L4 21.41c.39.39.9.59 1.41.59.51 0 1.02-.2 1.41-.59l7.78-7.78 2.81-2.81c.8-.78.8-2.07 0-2.86zM5.41 20L4 18.59l7.72-7.72 1.47 1.35L5.41 20z\"/>\n",
              "  </svg>\n",
              "      </button>\n",
              "      \n",
              "  <style>\n",
              "    .colab-df-container {\n",
              "      display:flex;\n",
              "      flex-wrap:wrap;\n",
              "      gap: 12px;\n",
              "    }\n",
              "\n",
              "    .colab-df-convert {\n",
              "      background-color: #E8F0FE;\n",
              "      border: none;\n",
              "      border-radius: 50%;\n",
              "      cursor: pointer;\n",
              "      display: none;\n",
              "      fill: #1967D2;\n",
              "      height: 32px;\n",
              "      padding: 0 0 0 0;\n",
              "      width: 32px;\n",
              "    }\n",
              "\n",
              "    .colab-df-convert:hover {\n",
              "      background-color: #E2EBFA;\n",
              "      box-shadow: 0px 1px 2px rgba(60, 64, 67, 0.3), 0px 1px 3px 1px rgba(60, 64, 67, 0.15);\n",
              "      fill: #174EA6;\n",
              "    }\n",
              "\n",
              "    [theme=dark] .colab-df-convert {\n",
              "      background-color: #3B4455;\n",
              "      fill: #D2E3FC;\n",
              "    }\n",
              "\n",
              "    [theme=dark] .colab-df-convert:hover {\n",
              "      background-color: #434B5C;\n",
              "      box-shadow: 0px 1px 3px 1px rgba(0, 0, 0, 0.15);\n",
              "      filter: drop-shadow(0px 1px 2px rgba(0, 0, 0, 0.3));\n",
              "      fill: #FFFFFF;\n",
              "    }\n",
              "  </style>\n",
              "\n",
              "      <script>\n",
              "        const buttonEl =\n",
              "          document.querySelector('#df-8b4f6894-a19e-4761-ac4d-397582c52862 button.colab-df-convert');\n",
              "        buttonEl.style.display =\n",
              "          google.colab.kernel.accessAllowed ? 'block' : 'none';\n",
              "\n",
              "        async function convertToInteractive(key) {\n",
              "          const element = document.querySelector('#df-8b4f6894-a19e-4761-ac4d-397582c52862');\n",
              "          const dataTable =\n",
              "            await google.colab.kernel.invokeFunction('convertToInteractive',\n",
              "                                                     [key], {});\n",
              "          if (!dataTable) return;\n",
              "\n",
              "          const docLinkHtml = 'Like what you see? Visit the ' +\n",
              "            '<a target=\"_blank\" href=https://colab.research.google.com/notebooks/data_table.ipynb>data table notebook</a>'\n",
              "            + ' to learn more about interactive tables.';\n",
              "          element.innerHTML = '';\n",
              "          dataTable['output_type'] = 'display_data';\n",
              "          await google.colab.output.renderOutput(dataTable, element);\n",
              "          const docLink = document.createElement('div');\n",
              "          docLink.innerHTML = docLinkHtml;\n",
              "          element.appendChild(docLink);\n",
              "        }\n",
              "      </script>\n",
              "    </div>\n",
              "  </div>\n",
              "  "
            ]
          },
          "metadata": {},
          "execution_count": 254
        }
      ]
    },
    {
      "cell_type": "markdown",
      "metadata": {
        "id": "PZmVxvM_4C5V"
      },
      "source": [
        "## 0. Before cleaning, print out how many missing values (sorted for readability) each column has:"
      ]
    },
    {
      "cell_type": "code",
      "metadata": {
        "id": "OELxGQNs-AhR",
        "colab": {
          "base_uri": "https://localhost:8080/"
        },
        "outputId": "5fba7fe1-0fa2-4aeb-fa14-55ccb23d30c9"
      },
      "source": [
        "## code here\n",
        "(df.isnull().sum()).sort_values(ascending = False)"
      ],
      "execution_count": null,
      "outputs": [
        {
          "output_type": "execute_result",
          "data": {
            "text/plain": [
              "parking_space          674\n",
              "renovated_date         569\n",
              "efficiency_class       513\n",
              "energy_requirement     438\n",
              "utilities              338\n",
              "heating_costs          338\n",
              "furnishing             319\n",
              "energy_certificate     313\n",
              "type_of_certificate    297\n",
              "energy_sources         270\n",
              "heating_type           249\n",
              "property_condition       0\n",
              "deposit_cleaned          0\n",
              "url                      0\n",
              "region                   0\n",
              "security_deposit         0\n",
              "cold_rent                0\n",
              "space                    0\n",
              "year_construction        0\n",
              "rent                     0\n",
              "rooms                    0\n",
              "condition                0\n",
              "n_missing                0\n",
              "dtype: int64"
            ]
          },
          "metadata": {},
          "execution_count": 255
        }
      ]
    },
    {
      "cell_type": "markdown",
      "metadata": {
        "id": "UeSRMJD94EZ7"
      },
      "source": [
        "## 1. Clean: `heating_type`\n",
        "\n",
        "Please explain why you choose your strategy for filling the missing values."
      ]
    },
    {
      "cell_type": "code",
      "metadata": {
        "id": "BpfSyexk-Cju",
        "colab": {
          "base_uri": "https://localhost:8080/"
        },
        "outputId": "2cba65bc-04f7-4ccd-c22b-beb9fd0e83c0"
      },
      "source": [
        "df.dtypes"
      ],
      "execution_count": null,
      "outputs": [
        {
          "output_type": "execute_result",
          "data": {
            "text/plain": [
              "url                     object\n",
              "region                  object\n",
              "condition               object\n",
              "rooms                  float64\n",
              "rent                   float64\n",
              "year_construction        int64\n",
              "space                  float64\n",
              "cold_rent              float64\n",
              "utilities               object\n",
              "heating_costs           object\n",
              "security_deposit        object\n",
              "parking_space           object\n",
              "renovated_date         float64\n",
              "property_condition      object\n",
              "furnishing              object\n",
              "heating_type            object\n",
              "energy_sources          object\n",
              "energy_certificate      object\n",
              "type_of_certificate     object\n",
              "energy_requirement      object\n",
              "efficiency_class        object\n",
              "deposit_cleaned        float64\n",
              "n_missing                int64\n",
              "dtype: object"
            ]
          },
          "metadata": {},
          "execution_count": 256
        }
      ]
    },
    {
      "cell_type": "code",
      "source": [
        "df[\"heating_type\"].unique()"
      ],
      "metadata": {
        "colab": {
          "base_uri": "https://localhost:8080/"
        },
        "id": "kzQ4ImRtXnj-",
        "outputId": "5d7b0a93-9b98-454b-94fc-6c6a1a76cd24"
      },
      "execution_count": null,
      "outputs": [
        {
          "output_type": "execute_result",
          "data": {
            "text/plain": [
              "array(['Underfloor Heating', 'Central Heating', nan, 'District Heating',\n",
              "       'Floor Heating', 'Gas Heating', 'CHP Plants',\n",
              "       'Wood Pellet Heating'], dtype=object)"
            ]
          },
          "metadata": {},
          "execution_count": 257
        }
      ]
    },
    {
      "cell_type": "code",
      "source": [
        "df.heating_type.isnull().sum()*100/len(df)"
      ],
      "metadata": {
        "colab": {
          "base_uri": "https://localhost:8080/"
        },
        "id": "_yWaijpdX7rT",
        "outputId": "5f4cd57e-ed5e-4746-80bd-3f48f0fd1394"
      },
      "execution_count": null,
      "outputs": [
        {
          "output_type": "execute_result",
          "data": {
            "text/plain": [
              "32.59162303664922"
            ]
          },
          "metadata": {},
          "execution_count": 258
        }
      ]
    },
    {
      "cell_type": "code",
      "source": [
        "df['heating_type'] = df.heating_type.fillna('other_heating_methods')"
      ],
      "metadata": {
        "id": "ll0FzQjqaGG4"
      },
      "execution_count": null,
      "outputs": []
    },
    {
      "cell_type": "code",
      "source": [
        "df[\"heating_type\"].unique()"
      ],
      "metadata": {
        "colab": {
          "base_uri": "https://localhost:8080/"
        },
        "id": "as6tqnF1abbd",
        "outputId": "512dccbf-e10a-4202-9cef-e6ab28f4ff4b"
      },
      "execution_count": null,
      "outputs": [
        {
          "output_type": "execute_result",
          "data": {
            "text/plain": [
              "array(['Underfloor Heating', 'Central Heating', 'other_heating_methods',\n",
              "       'District Heating', 'Floor Heating', 'Gas Heating', 'CHP Plants',\n",
              "       'Wood Pellet Heating'], dtype=object)"
            ]
          },
          "metadata": {},
          "execution_count": 262
        }
      ]
    },
    {
      "cell_type": "markdown",
      "metadata": {
        "id": "RLAa7wgu4E0V"
      },
      "source": [
        "## 2. Clean: `renovated_date`\n",
        "\n",
        "Please explain why you choose your strategy for filling the missing values."
      ]
    },
    {
      "cell_type": "code",
      "metadata": {
        "id": "HOpffadx-EhM",
        "colab": {
          "base_uri": "https://localhost:8080/"
        },
        "outputId": "ab3720c4-c824-406e-ede4-76cd01348cb9"
      },
      "source": [
        "df.renovated_date.isnull().sum()*100/len(df)"
      ],
      "execution_count": null,
      "outputs": [
        {
          "output_type": "execute_result",
          "data": {
            "text/plain": [
              "74.47643979057591"
            ]
          },
          "metadata": {},
          "execution_count": 263
        }
      ]
    },
    {
      "cell_type": "code",
      "source": [
        "df[\"renovated_date\"].unique()"
      ],
      "metadata": {
        "id": "0JWTIqY-8UOX",
        "outputId": "ec591e4e-0801-40c5-e5a8-98fa7a088da4",
        "colab": {
          "base_uri": "https://localhost:8080/"
        }
      },
      "execution_count": null,
      "outputs": [
        {
          "output_type": "execute_result",
          "data": {
            "text/plain": [
              "array([  nan, 2019., 2016., 2020., 2018., 2015., 2017., 2014., 2011.,\n",
              "       2010., 2006., 1995., 2012.])"
            ]
          },
          "metadata": {},
          "execution_count": 264
        }
      ]
    },
    {
      "cell_type": "code",
      "source": [
        "df[\"renovated_date\"] = df.renovated_date.astype(str)\n"
      ],
      "metadata": {
        "id": "eQgf_7ZeQOjU"
      },
      "execution_count": null,
      "outputs": []
    },
    {
      "cell_type": "code",
      "source": [
        "df.renovated_date.unique()"
      ],
      "metadata": {
        "colab": {
          "base_uri": "https://localhost:8080/"
        },
        "id": "NU4tBM6tRcYv",
        "outputId": "20cc2116-4e24-4bb3-93f3-eb6c2c26af1e"
      },
      "execution_count": null,
      "outputs": [
        {
          "output_type": "execute_result",
          "data": {
            "text/plain": [
              "array(['nan', '2019.0', '2016.0', '2020.0', '2018.0', '2015.0', '2017.0',\n",
              "       '2014.0', '2011.0', '2010.0', '2006.0', '1995.0', '2012.0'],\n",
              "      dtype=object)"
            ]
          },
          "metadata": {},
          "execution_count": 266
        }
      ]
    },
    {
      "cell_type": "code",
      "source": [
        "df[\"renovated_date\"] = df.renovated_date.str.split(\".\",expand=True)[0]"
      ],
      "metadata": {
        "id": "J85b4DpJ4Hkp"
      },
      "execution_count": null,
      "outputs": []
    },
    {
      "cell_type": "code",
      "source": [
        "df['renovated_date']= pd.to_datetime(df['renovated_date'])"
      ],
      "metadata": {
        "id": "Sx-_wuo7AIFX"
      },
      "execution_count": null,
      "outputs": []
    },
    {
      "cell_type": "code",
      "source": [
        "df['renovated_date'] = df.renovated_date.fillna(method = \"bfill\")"
      ],
      "metadata": {
        "id": "cpcEEuO2OCUF"
      },
      "execution_count": null,
      "outputs": []
    },
    {
      "cell_type": "markdown",
      "metadata": {
        "id": "BMqdgnI3Y7BN"
      },
      "source": [
        "## 3. Clean: `parking_space`\n",
        "\n",
        "Please explain why you choose your strategy for filling the missing values."
      ]
    },
    {
      "cell_type": "code",
      "metadata": {
        "id": "PjMfP4MvY5Fr",
        "colab": {
          "base_uri": "https://localhost:8080/"
        },
        "outputId": "10e8f7a0-dc12-4a01-9e51-a926d8ae57a8"
      },
      "source": [
        "df[\"parking_space\"].unique()"
      ],
      "execution_count": null,
      "outputs": [
        {
          "output_type": "execute_result",
          "data": {
            "text/plain": [
              "array(['120€', nan, '150€', '200€', '0€', '130€', '90€', '350€', '119€',\n",
              "       '100€', '60€', '140€', '220€', '70€', '110€', '145€', '166,6€',\n",
              "       '180€', '250€', '149€', '280€', '75€'], dtype=object)"
            ]
          },
          "metadata": {},
          "execution_count": 269
        }
      ]
    },
    {
      "cell_type": "code",
      "source": [
        "df['parking_space'] = df['parking_space'].str.replace(r\"[\\€\\+]\", '')"
      ],
      "metadata": {
        "colab": {
          "base_uri": "https://localhost:8080/"
        },
        "id": "EctsN3VLpGxj",
        "outputId": "e3f96c0e-fbd4-4f4c-88e8-5b4d67b9009f"
      },
      "execution_count": null,
      "outputs": [
        {
          "output_type": "stream",
          "name": "stderr",
          "text": [
            "/usr/local/lib/python3.7/dist-packages/ipykernel_launcher.py:1: FutureWarning: The default value of regex will change from True to False in a future version.\n",
            "  \"\"\"Entry point for launching an IPython kernel.\n"
          ]
        }
      ]
    },
    {
      "cell_type": "code",
      "source": [
        "df['parking_space'] = df['parking_space'].str.replace(\",\", '.')"
      ],
      "metadata": {
        "id": "uFrdvfT192Vd"
      },
      "execution_count": null,
      "outputs": []
    },
    {
      "cell_type": "code",
      "source": [
        "df[\"parking_space\"].unique()"
      ],
      "metadata": {
        "colab": {
          "base_uri": "https://localhost:8080/"
        },
        "id": "CA-koQYsmnql",
        "outputId": "9a30e688-b6a8-4219-e2e1-23ea7a913f67"
      },
      "execution_count": null,
      "outputs": [
        {
          "output_type": "execute_result",
          "data": {
            "text/plain": [
              "array(['120', nan, '150', '200', '0', '130', '90', '350', '119', '100',\n",
              "       '60', '140', '220', '70', '110', '145', '166.6', '180', '250',\n",
              "       '149', '280', '75'], dtype=object)"
            ]
          },
          "metadata": {},
          "execution_count": 272
        }
      ]
    },
    {
      "cell_type": "code",
      "source": [
        "df['parking_space'] = df['parking_space'].astype(float)   "
      ],
      "metadata": {
        "id": "kLYRiP6T9eNZ"
      },
      "execution_count": null,
      "outputs": []
    },
    {
      "cell_type": "code",
      "source": [
        "df['parking_space'] = df.parking_space.fillna(method = \"bfill\")"
      ],
      "metadata": {
        "id": "GNmd98TcMqAy"
      },
      "execution_count": null,
      "outputs": []
    },
    {
      "cell_type": "markdown",
      "metadata": {
        "id": "d-FJavHVZM16"
      },
      "source": [
        "## 4. Clean: `utilities`\n",
        "\n",
        "Please explain why you choose your strategy for filling the missing values."
      ]
    },
    {
      "cell_type": "code",
      "metadata": {
        "id": "1gCHzQ5JY5IS",
        "colab": {
          "base_uri": "https://localhost:8080/"
        },
        "outputId": "7f319cc4-2cc9-4177-d65a-2d8f5ee94070"
      },
      "source": [
        "df[\"utilities\"].unique()"
      ],
      "execution_count": null,
      "outputs": [
        {
          "output_type": "execute_result",
          "data": {
            "text/plain": [
              "array(['+460€', '+226,49€', '+90€', nan, '+110€', '+255€', '+500€',\n",
              "       '+250€', '+750€', '+133,30€', '+225,84€', '+164,09€', '+170€',\n",
              "       '+98,38€', '+380€', '+294€', '+453,60€', '+235€', 'keine', '+150€',\n",
              "       '+120€', '+40€', '+426,84€', '+225€', '+137,04€', '+164,74€',\n",
              "       '+85€', '+434,17€', '+253€', '+330€', '+322€', '+320€', '+135€',\n",
              "       '+311,90€', '+675€', '+580€', '+230€', '+300€', '+645€', '+200€',\n",
              "       '+151,71€', '+180€', '+400€', '+190€', '+0€', '+174€', '+212€',\n",
              "       '+270€', '+378,10€', '+477€', '+579€', '+265€', '+160€', '+65€',\n",
              "       '+315,21€', '+232,40€', '+165€', '+91€', '+307€', '+97,76€',\n",
              "       '+111,75€', '+545€', '+130,80€', '+256€', '+284€', '+258,88€',\n",
              "       '+189€', '+233€', '+280€', '+80€', '+60€', '+70€', '+145€',\n",
              "       '+100€', '+227,73€', '+195€', '+163€', '+80,07€', '+201€', '+68€',\n",
              "       '+209€', '+222€', '+247€', '+242,10€', '+298,14€', '+240€',\n",
              "       '+157,84€', '+211,75€', '+214,20€', '+415€', '+350€', '+127,04€',\n",
              "       '+290€', '+274,65€', '+550€', '+760€', '+198€', '+345,30€',\n",
              "       '+312,32€', '+224,34€', '+352,80€', '+351,90€', '+169,26€',\n",
              "       '+180,30€', '+277€', '+183€', '+600€', '+75€', '+140€', '+392,15€',\n",
              "       '+262,16€', '+304€', '+328€', '+205€', '+408,86€', '+130€',\n",
              "       '+200,13€', '+560€', '+249€', '+410€', '+356€', '+1.026,50€',\n",
              "       '+210€', '+93€', '+295€', '+121€', '+310€', '+408€', '+370€',\n",
              "       '+113,06€', '+125€', '+275€', '+1€', '+185€', '+194,42€', '+296€',\n",
              "       '+454€', '+115,88€', '+162€', '+66,47€', '+158€', '+80,52€',\n",
              "       '+213€', '+149€', '+153€', '+570€', '+394,49€', '+289,10€',\n",
              "       '+372,26€', '+133,62€', '+230,05€', '+131,10€', '+191€',\n",
              "       '+121,49€', '+393€', '+263€', '+217,19€', '+559€', '+586€',\n",
              "       '+204,76€', '+136,05€', '+118,86€', '+336,81€', '+120,32€',\n",
              "       '+215€', '+191,92€', '+129,46€', '+180,94€', '+178,38€',\n",
              "       '+167,56€', '+227€', '+154,40€', '+143,64€', '+231,40€',\n",
              "       '+164,30€', '+147,75€', '+174,86€', '+225,98€', '+266,84€',\n",
              "       '+103,44€', '+700€', '+175€', '+176,60€', '+201,30€', '+147€',\n",
              "       '+450€', '+140,90€', '+245,66€', '+190,68€', '+198,88€',\n",
              "       '+205,74€', '+133,20€', '+129,56€', '+132,62€', '+167,94€',\n",
              "       '+395,76€', '+331,20€', '+196,08€', '+182,08€', '+61,40€',\n",
              "       '+200,98€', '+197,40€', '+132,76€', '+193,46€', '+192,52€',\n",
              "       '+130,70€', '+193,86€', '+193,94€', '+238,88€', '+172,12€',\n",
              "       '+184,10€', '+214,52€', '+153,14€', '+163,92€', '+169,62€',\n",
              "       '+874,80€', '+163,34€', '+242,72€', '+178,60€', '+169,96€',\n",
              "       '+470€', '+150,54€', '+922,50€', '+224,62€', '+196,12€',\n",
              "       '+203,04€', '+201,96€', '+163,30€', '+213,28€', '+196,04€',\n",
              "       '+259,34€', '+163,90€', '+510€', '+163,44€', '+184,84€',\n",
              "       '+185,12€', '+187,94€', '+244,58€', '+242,30€', '+214€',\n",
              "       '+248,32€', '+171,40€', '+203,38€', '+163,14€', '+195,74€',\n",
              "       '+173€', '+169,36€', '+222,98€', '+208,26€', '+245,30€', '+390€',\n",
              "       '+217,16€', '+217,72€', '+123€', '+132€', '+220€', '+128€',\n",
              "       '+362,60€', '+204,71€', '+168€', '+254€', '+63€'], dtype=object)"
            ]
          },
          "metadata": {},
          "execution_count": 274
        }
      ]
    },
    {
      "cell_type": "code",
      "source": [
        "df['utilities'] = df['utilities'].str.replace(r\"[\\€\\+]\", '')"
      ],
      "metadata": {
        "colab": {
          "base_uri": "https://localhost:8080/"
        },
        "id": "_gDPICWZpouI",
        "outputId": "b7d5651c-9453-424f-b602-8ea1db1c42fb"
      },
      "execution_count": null,
      "outputs": [
        {
          "output_type": "stream",
          "name": "stderr",
          "text": [
            "/usr/local/lib/python3.7/dist-packages/ipykernel_launcher.py:1: FutureWarning: The default value of regex will change from True to False in a future version.\n",
            "  \"\"\"Entry point for launching an IPython kernel.\n"
          ]
        }
      ]
    },
    {
      "cell_type": "code",
      "source": [
        "df['utilities'] = df['utilities'].str.replace(\",\", '.')"
      ],
      "metadata": {
        "id": "POj6ZJSr-MTR"
      },
      "execution_count": null,
      "outputs": []
    },
    {
      "cell_type": "code",
      "source": [
        "df[\"utilities\"].unique()"
      ],
      "metadata": {
        "colab": {
          "base_uri": "https://localhost:8080/"
        },
        "id": "VS-eebNJnObc",
        "outputId": "2e178ab7-04f9-48ef-dc0c-41f5063e3d01"
      },
      "execution_count": null,
      "outputs": [
        {
          "output_type": "execute_result",
          "data": {
            "text/plain": [
              "array([460.  , 226.49,  90.  ,    nan, 110.  , 255.  , 500.  , 250.  ,\n",
              "       750.  , 133.3 , 225.84, 164.09, 170.  ,  98.38, 380.  , 294.  ,\n",
              "       453.6 , 235.  ,   0.  , 150.  , 120.  ,  40.  , 426.84, 225.  ,\n",
              "       137.04, 164.74,  85.  , 434.17, 253.  , 330.  , 322.  , 320.  ,\n",
              "       135.  , 311.9 , 675.  , 580.  , 230.  , 300.  , 645.  , 200.  ,\n",
              "       151.71, 180.  , 400.  , 190.  , 174.  , 212.  , 270.  , 378.1 ,\n",
              "       477.  , 579.  , 265.  , 160.  ,  65.  , 315.21, 232.4 , 165.  ,\n",
              "        91.  , 307.  ,  97.76, 111.75, 545.  , 130.8 , 256.  , 284.  ,\n",
              "       258.88, 189.  , 233.  , 280.  ,  80.  ,  60.  ,  70.  , 145.  ,\n",
              "       100.  , 227.73, 195.  , 163.  ,  80.07, 201.  ,  68.  , 209.  ,\n",
              "       222.  , 247.  , 242.1 , 298.14, 240.  , 157.84, 211.75, 214.2 ,\n",
              "       415.  , 350.  , 127.04, 290.  , 274.65, 550.  , 760.  , 198.  ,\n",
              "       345.3 , 312.32, 224.34, 352.8 , 351.9 , 169.26, 180.3 , 277.  ,\n",
              "       183.  , 600.  ,  75.  , 140.  , 392.15, 262.16, 304.  , 328.  ,\n",
              "       205.  , 408.86, 130.  , 200.13, 560.  , 249.  , 410.  , 356.  ,\n",
              "       102.5 , 210.  ,  93.  , 295.  , 121.  , 310.  , 408.  , 370.  ,\n",
              "       113.06, 125.  , 275.  ,   1.  , 185.  , 194.42, 296.  , 454.  ,\n",
              "       115.88, 162.  ,  66.47, 158.  ,  80.52, 213.  , 149.  , 153.  ,\n",
              "       570.  , 394.49, 289.1 , 372.26, 133.62, 230.05, 131.1 , 191.  ,\n",
              "       121.49, 393.  , 263.  , 217.19, 559.  , 586.  , 204.76, 136.05,\n",
              "       118.86, 336.81, 120.32, 215.  , 191.92, 129.46, 180.94, 178.38,\n",
              "       167.56, 227.  , 154.4 , 143.64, 231.4 , 164.3 , 147.75, 174.86,\n",
              "       225.98, 266.84, 103.44, 700.  , 175.  , 176.6 , 201.3 , 147.  ,\n",
              "       450.  , 140.9 , 245.66, 190.68, 198.88, 205.74, 133.2 , 129.56,\n",
              "       132.62, 167.94, 395.76, 331.2 , 196.08, 182.08,  61.4 , 200.98,\n",
              "       197.4 , 132.76, 193.46, 192.52, 130.7 , 193.86, 193.94, 238.88,\n",
              "       172.12, 184.1 , 214.52, 153.14, 163.92, 169.62, 874.8 , 163.34,\n",
              "       242.72, 178.6 , 169.96, 470.  , 150.54, 922.5 , 224.62, 196.12,\n",
              "       203.04, 201.96, 163.3 , 213.28, 196.04, 259.34, 163.9 , 510.  ,\n",
              "       163.44, 184.84, 185.12, 187.94, 244.58, 242.3 , 214.  , 248.32,\n",
              "       171.4 , 203.38, 163.14, 195.74, 173.  , 169.36, 222.98, 208.26,\n",
              "       245.3 , 390.  , 217.16, 217.72, 123.  , 132.  , 220.  , 128.  ,\n",
              "       362.6 , 204.71, 168.  , 254.  ,  63.  ])"
            ]
          },
          "metadata": {},
          "execution_count": 299
        }
      ]
    },
    {
      "cell_type": "code",
      "source": [
        "df['utilities'] = df['utilities'].str.replace(\"keine\", '0')"
      ],
      "metadata": {
        "id": "zE1F1fOpDQon"
      },
      "execution_count": null,
      "outputs": []
    },
    {
      "cell_type": "code",
      "source": [
        "df['utilities'] = df['utilities'].str.replace(\"1.026.5\", '102.65')"
      ],
      "metadata": {
        "colab": {
          "base_uri": "https://localhost:8080/"
        },
        "id": "HllRO0T6DeKm",
        "outputId": "f2f522ad-5e11-4d4b-8d3a-26f69ffc66fc"
      },
      "execution_count": null,
      "outputs": [
        {
          "output_type": "stream",
          "name": "stderr",
          "text": [
            "/usr/local/lib/python3.7/dist-packages/ipykernel_launcher.py:1: FutureWarning: The default value of regex will change from True to False in a future version.\n",
            "  \"\"\"Entry point for launching an IPython kernel.\n"
          ]
        }
      ]
    },
    {
      "cell_type": "code",
      "source": [
        "df['utilities'] = df['utilities'].astype(float)   "
      ],
      "metadata": {
        "id": "N5z8Dcne-faH"
      },
      "execution_count": null,
      "outputs": []
    },
    {
      "cell_type": "code",
      "source": [
        "df['utilities'] = df.utilities.fillna(method = \"bfill\")"
      ],
      "metadata": {
        "id": "fAG-TwMHNiUx"
      },
      "execution_count": null,
      "outputs": []
    },
    {
      "cell_type": "markdown",
      "metadata": {
        "id": "BZrL7CM4ZRuA"
      },
      "source": [
        "## 5. Clean: `energy_requirement`\n",
        "\n",
        "Please explain why you choose your strategy for filling the missing values."
      ]
    },
    {
      "cell_type": "code",
      "metadata": {
        "id": "A__3sJhWZR3P",
        "colab": {
          "base_uri": "https://localhost:8080/"
        },
        "outputId": "7f6ef899-8545-45fe-a75f-c676416d4f21"
      },
      "source": [
        "df[\"energy_requirement\"].unique()"
      ],
      "execution_count": null,
      "outputs": [
        {
          "output_type": "execute_result",
          "data": {
            "text/plain": [
              "array([nan, '81,6 kWh/(m²*a)', '64,2 kWh/(m²*a)', '66,2 kWh/(m²*a)',\n",
              "       '40 kWh/(m²*a)', '51 kWh/(m²*a)', '81 kWh/(m²*a)', '58 kWh/(m²*a)',\n",
              "       '80 kWh/(m²*a)', '50 kWh/(m²*a)', '102 kWh/(m²*a)',\n",
              "       '113 kWh/(m²*a)', '68 kWh/(m²*a)', '16,3 kWh/(m²*a)',\n",
              "       '76,9 kWh/(m²*a)', '79 kWh/(m²*a)', '149 kWh/(m²*a)',\n",
              "       '74 kWh/(m²*a)', '66,7 kWh/(m²*a)', '61 kWh/(m²*a)',\n",
              "       '118,2 kWh/(m²*a)', '70 kWh/(m²*a)', '45,7 kWh/(m²*a)',\n",
              "       '61,7 kWh/(m²*a)', '60 kWh/(m²*a)', '116 kWh/(m²*a)',\n",
              "       '35,61 kWh/(m²*a)', '53 kWh/(m²*a)', '36,61 kWh/(m²*a)',\n",
              "       '34,6 kWh/(m²*a)', '42,6 kWh/(m²*a)', '101,19 kWh/(m²*a)',\n",
              "       '61,9 kWh/(m²*a)', '128,1 kWh/(m²*a)', '54,9 kWh/(m²*a)',\n",
              "       '69 kWh/(m²*a)', '59,8 kWh/(m²*a)', '67 kWh/(m²*a)',\n",
              "       '66 kWh/(m²*a)', '113,7 kWh/(m²*a)', '74,6 kWh/(m²*a)',\n",
              "       '65,99 kWh/(m²*a)', '150,4 kWh/(m²*a)', '70,3 kWh/(m²*a)',\n",
              "       '40,41 kWh/(m²*a)', '148,7 kWh/(m²*a)', '170 kWh/(m²*a)',\n",
              "       '62,2 kWh/(m²*a)', '228 kWh/(m²*a)', '134,5 kWh/(m²*a)',\n",
              "       '76 kWh/(m²*a)', '77,3 kWh/(m²*a)', '139 kWh/(m²*a)',\n",
              "       '59 kWh/(m²*a)', '80,5 kWh/(m²*a)', '56,88 kWh/(m²*a)',\n",
              "       '76,4 kWh/(m²*a)', '42,8 kWh/(m²*a)', '28 kWh/(m²*a)',\n",
              "       '54 kWh/(m²*a)', '70,8 kWh/(m²*a)', '65 kWh/(m²*a)',\n",
              "       '135,9 kWh/(m²*a)', '163,5 kWh/(m²*a)', '118 kWh/(m²*a)',\n",
              "       '82,4 kWh/(m²*a)', '132 kWh/(m²*a)', '87,8 kWh/(m²*a)',\n",
              "       '158,6 kWh/(m²*a)', '160,8 kWh/(m²*a)', '155,5 kWh/(m²*a)',\n",
              "       '70,4 kWh/(m²*a)', '72 kWh/(m²*a)', '64,1 kWh/(m²*a)',\n",
              "       '30 kWh/(m²*a)', '62,8 kWh/(m²*a)', '39,5 kWh/(m²*a)',\n",
              "       '49,5 kWh/(m²*a)', '71,4 kWh/(m²*a)', '125 kWh/(m²*a)',\n",
              "       '23,3 kWh/(m²*a)', '104,6 kWh/(m²*a)', '92 kWh/(m²*a)',\n",
              "       '236,68 kWh/(m²*a)', '38,5 kWh/(m²*a)', '112 kWh/(m²*a)',\n",
              "       '59,9 kWh/(m²*a)', '31,4 kWh/(m²*a)', '157,7 kWh/(m²*a)',\n",
              "       '52,2 kWh/(m²*a)', '49,2 kWh/(m²*a)', '48 kWh/(m²*a)',\n",
              "       '100 kWh/(m²*a)', '55 kWh/(m²*a)', '103 kWh/(m²*a)',\n",
              "       '64,3 kWh/(m²*a)', '52 kWh/(m²*a)', '49 kWh/(m²*a)',\n",
              "       '239,2 kWh/(m²*a)', '60,1 kWh/(m²*a)', '59,1 kWh/(m²*a)',\n",
              "       '119 kWh/(m²*a)', '75,9 kWh/(m²*a)', '237,7 kWh/(m²*a)',\n",
              "       '47 kWh/(m²*a)', '22,8 kWh/(m²*a)', '42 kWh/(m²*a)',\n",
              "       '62 kWh/(m²*a)', '71,9 kWh/(m²*a)', '79,9 kWh/(m²*a)',\n",
              "       '44,5 kWh/(m²*a)', '83,3 kWh/(m²*a)', '151,8 kWh/(m²*a)',\n",
              "       '51,43 kWh/(m²*a)'], dtype=object)"
            ]
          },
          "metadata": {},
          "execution_count": 282
        }
      ]
    },
    {
      "cell_type": "code",
      "source": [
        "df[\"energy_requirement\"].unique()"
      ],
      "metadata": {
        "colab": {
          "base_uri": "https://localhost:8080/"
        },
        "id": "S6teTBzUtD3g",
        "outputId": "74126bde-b5f9-4ed5-ea46-d03377aba786"
      },
      "execution_count": null,
      "outputs": [
        {
          "output_type": "execute_result",
          "data": {
            "text/plain": [
              "array([nan, '81,6 kWh/(m²*a)', '64,2 kWh/(m²*a)', '66,2 kWh/(m²*a)',\n",
              "       '40 kWh/(m²*a)', '51 kWh/(m²*a)', '81 kWh/(m²*a)', '58 kWh/(m²*a)',\n",
              "       '80 kWh/(m²*a)', '50 kWh/(m²*a)', '102 kWh/(m²*a)',\n",
              "       '113 kWh/(m²*a)', '68 kWh/(m²*a)', '16,3 kWh/(m²*a)',\n",
              "       '76,9 kWh/(m²*a)', '79 kWh/(m²*a)', '149 kWh/(m²*a)',\n",
              "       '74 kWh/(m²*a)', '66,7 kWh/(m²*a)', '61 kWh/(m²*a)',\n",
              "       '118,2 kWh/(m²*a)', '70 kWh/(m²*a)', '45,7 kWh/(m²*a)',\n",
              "       '61,7 kWh/(m²*a)', '60 kWh/(m²*a)', '116 kWh/(m²*a)',\n",
              "       '35,61 kWh/(m²*a)', '53 kWh/(m²*a)', '36,61 kWh/(m²*a)',\n",
              "       '34,6 kWh/(m²*a)', '42,6 kWh/(m²*a)', '101,19 kWh/(m²*a)',\n",
              "       '61,9 kWh/(m²*a)', '128,1 kWh/(m²*a)', '54,9 kWh/(m²*a)',\n",
              "       '69 kWh/(m²*a)', '59,8 kWh/(m²*a)', '67 kWh/(m²*a)',\n",
              "       '66 kWh/(m²*a)', '113,7 kWh/(m²*a)', '74,6 kWh/(m²*a)',\n",
              "       '65,99 kWh/(m²*a)', '150,4 kWh/(m²*a)', '70,3 kWh/(m²*a)',\n",
              "       '40,41 kWh/(m²*a)', '148,7 kWh/(m²*a)', '170 kWh/(m²*a)',\n",
              "       '62,2 kWh/(m²*a)', '228 kWh/(m²*a)', '134,5 kWh/(m²*a)',\n",
              "       '76 kWh/(m²*a)', '77,3 kWh/(m²*a)', '139 kWh/(m²*a)',\n",
              "       '59 kWh/(m²*a)', '80,5 kWh/(m²*a)', '56,88 kWh/(m²*a)',\n",
              "       '76,4 kWh/(m²*a)', '42,8 kWh/(m²*a)', '28 kWh/(m²*a)',\n",
              "       '54 kWh/(m²*a)', '70,8 kWh/(m²*a)', '65 kWh/(m²*a)',\n",
              "       '135,9 kWh/(m²*a)', '163,5 kWh/(m²*a)', '118 kWh/(m²*a)',\n",
              "       '82,4 kWh/(m²*a)', '132 kWh/(m²*a)', '87,8 kWh/(m²*a)',\n",
              "       '158,6 kWh/(m²*a)', '160,8 kWh/(m²*a)', '155,5 kWh/(m²*a)',\n",
              "       '70,4 kWh/(m²*a)', '72 kWh/(m²*a)', '64,1 kWh/(m²*a)',\n",
              "       '30 kWh/(m²*a)', '62,8 kWh/(m²*a)', '39,5 kWh/(m²*a)',\n",
              "       '49,5 kWh/(m²*a)', '71,4 kWh/(m²*a)', '125 kWh/(m²*a)',\n",
              "       '23,3 kWh/(m²*a)', '104,6 kWh/(m²*a)', '92 kWh/(m²*a)',\n",
              "       '236,68 kWh/(m²*a)', '38,5 kWh/(m²*a)', '112 kWh/(m²*a)',\n",
              "       '59,9 kWh/(m²*a)', '31,4 kWh/(m²*a)', '157,7 kWh/(m²*a)',\n",
              "       '52,2 kWh/(m²*a)', '49,2 kWh/(m²*a)', '48 kWh/(m²*a)',\n",
              "       '100 kWh/(m²*a)', '55 kWh/(m²*a)', '103 kWh/(m²*a)',\n",
              "       '64,3 kWh/(m²*a)', '52 kWh/(m²*a)', '49 kWh/(m²*a)',\n",
              "       '239,2 kWh/(m²*a)', '60,1 kWh/(m²*a)', '59,1 kWh/(m²*a)',\n",
              "       '119 kWh/(m²*a)', '75,9 kWh/(m²*a)', '237,7 kWh/(m²*a)',\n",
              "       '47 kWh/(m²*a)', '22,8 kWh/(m²*a)', '42 kWh/(m²*a)',\n",
              "       '62 kWh/(m²*a)', '71,9 kWh/(m²*a)', '79,9 kWh/(m²*a)',\n",
              "       '44,5 kWh/(m²*a)', '83,3 kWh/(m²*a)', '151,8 kWh/(m²*a)',\n",
              "       '51,43 kWh/(m²*a)'], dtype=object)"
            ]
          },
          "metadata": {},
          "execution_count": 283
        }
      ]
    },
    {
      "cell_type": "code",
      "source": [
        "df[\"energy_requirement\"] = df.energy_requirement.str.split(\" \",expand=True)[0]"
      ],
      "metadata": {
        "id": "c6uDTYl13GgD"
      },
      "execution_count": null,
      "outputs": []
    },
    {
      "cell_type": "code",
      "source": [
        "df['energy_requirement'] = df['energy_requirement'].str.replace(\",\", '.')"
      ],
      "metadata": {
        "id": "T2B42GC6_Oey"
      },
      "execution_count": null,
      "outputs": []
    },
    {
      "cell_type": "code",
      "source": [
        "df['energy_requirement'] = df['energy_requirement'].astype(float)   "
      ],
      "metadata": {
        "id": "KKcgvVna-01j"
      },
      "execution_count": null,
      "outputs": []
    },
    {
      "cell_type": "code",
      "source": [
        "df['energy_requirement'] = df.energy_requirement.fillna(method = \"bfill\")"
      ],
      "metadata": {
        "id": "MQuMo6o2Nube"
      },
      "execution_count": null,
      "outputs": []
    },
    {
      "cell_type": "code",
      "source": [
        "df.head()"
      ],
      "metadata": {
        "colab": {
          "base_uri": "https://localhost:8080/",
          "height": 421
        },
        "id": "K7PR8S0L3j26",
        "outputId": "1319a5ad-6cc6-4059-ec2c-f3375f4b5ddc"
      },
      "execution_count": null,
      "outputs": [
        {
          "output_type": "execute_result",
          "data": {
            "text/plain": [
              "                                                 url       region  \\\n",
              "0  https://www.immobilienscout24.de/expose/116051687        Mitte   \n",
              "1  https://www.immobilienscout24.de/expose/115338103    Kreuzberg   \n",
              "2  https://www.immobilienscout24.de/expose/116458710     Köpenick   \n",
              "3  https://www.immobilienscout24.de/expose/116573177  Wilmersdorf   \n",
              "4  https://www.immobilienscout24.de/expose/115925878    Kreuzberg   \n",
              "\n",
              "        condition  rooms     rent  year_construction   space    cold_rent  \\\n",
              "0  first_time_use    4.0  2659.00               2019  117.20  2199.000000   \n",
              "1  first_time_use    1.0  1200.00               2020   29.33   973.510000   \n",
              "2       well_kept    2.0   979.00               1997   83.61   799.000000   \n",
              "3       well_kept    4.0  1830.22               1900  171.18   911.544216   \n",
              "4  first_time_use    2.0  2272.00               2020   88.27  1131.573505   \n",
              "\n",
              "   utilities heating_costs  ... property_condition         furnishing  \\\n",
              "0     460.00            in  ...                New                NaN   \n",
              "1     226.49            in  ...                New  Gehobene Qualität   \n",
              "2      90.00          +90€  ...            Groomed   Normale Qualität   \n",
              "3        NaN           NaN  ...            Unknown                NaN   \n",
              "4        NaN           NaN  ...                New  Gehobene Qualität   \n",
              "\n",
              "            heating_type                                     energy_sources  \\\n",
              "0     Underfloor Heating                                                NaN   \n",
              "1        Central Heating                 Fernwärme Energieausweis liegt vor   \n",
              "2        Central Heating                 Fernwärme Energieausweis liegt vor   \n",
              "3  other_heating_methods                                                NaN   \n",
              "4        Central Heating  Fernwärme Energieausweis liegt zur Besichtigun...   \n",
              "\n",
              "           energy_certificate type_of_certificate energy_requirement  \\\n",
              "0                         NaN      Bedarfsausweis                NaN   \n",
              "1                   liegt vor                 NaN                NaN   \n",
              "2                   liegt vor   Verbrauchsausweis                NaN   \n",
              "3                         NaN                 NaN                NaN   \n",
              "4  liegt zur Besichtigung vor                 NaN                NaN   \n",
              "\n",
              "  efficiency_class deposit_cleaned  n_missing  \n",
              "0                B         7977.00          5  \n",
              "1              NaN         2920.53          5  \n",
              "2              NaN         2937.00          4  \n",
              "3              NaN         5490.66         13  \n",
              "4              NaN         6816.00          8  \n",
              "\n",
              "[5 rows x 23 columns]"
            ],
            "text/html": [
              "\n",
              "  <div id=\"df-7fe2e6e5-1afa-4b00-b1d6-e1025cffa10d\">\n",
              "    <div class=\"colab-df-container\">\n",
              "      <div>\n",
              "<style scoped>\n",
              "    .dataframe tbody tr th:only-of-type {\n",
              "        vertical-align: middle;\n",
              "    }\n",
              "\n",
              "    .dataframe tbody tr th {\n",
              "        vertical-align: top;\n",
              "    }\n",
              "\n",
              "    .dataframe thead th {\n",
              "        text-align: right;\n",
              "    }\n",
              "</style>\n",
              "<table border=\"1\" class=\"dataframe\">\n",
              "  <thead>\n",
              "    <tr style=\"text-align: right;\">\n",
              "      <th></th>\n",
              "      <th>url</th>\n",
              "      <th>region</th>\n",
              "      <th>condition</th>\n",
              "      <th>rooms</th>\n",
              "      <th>rent</th>\n",
              "      <th>year_construction</th>\n",
              "      <th>space</th>\n",
              "      <th>cold_rent</th>\n",
              "      <th>utilities</th>\n",
              "      <th>heating_costs</th>\n",
              "      <th>...</th>\n",
              "      <th>property_condition</th>\n",
              "      <th>furnishing</th>\n",
              "      <th>heating_type</th>\n",
              "      <th>energy_sources</th>\n",
              "      <th>energy_certificate</th>\n",
              "      <th>type_of_certificate</th>\n",
              "      <th>energy_requirement</th>\n",
              "      <th>efficiency_class</th>\n",
              "      <th>deposit_cleaned</th>\n",
              "      <th>n_missing</th>\n",
              "    </tr>\n",
              "  </thead>\n",
              "  <tbody>\n",
              "    <tr>\n",
              "      <th>0</th>\n",
              "      <td>https://www.immobilienscout24.de/expose/116051687</td>\n",
              "      <td>Mitte</td>\n",
              "      <td>first_time_use</td>\n",
              "      <td>4.0</td>\n",
              "      <td>2659.00</td>\n",
              "      <td>2019</td>\n",
              "      <td>117.20</td>\n",
              "      <td>2199.000000</td>\n",
              "      <td>460.00</td>\n",
              "      <td>in</td>\n",
              "      <td>...</td>\n",
              "      <td>New</td>\n",
              "      <td>NaN</td>\n",
              "      <td>Underfloor Heating</td>\n",
              "      <td>NaN</td>\n",
              "      <td>NaN</td>\n",
              "      <td>Bedarfsausweis</td>\n",
              "      <td>NaN</td>\n",
              "      <td>B</td>\n",
              "      <td>7977.00</td>\n",
              "      <td>5</td>\n",
              "    </tr>\n",
              "    <tr>\n",
              "      <th>1</th>\n",
              "      <td>https://www.immobilienscout24.de/expose/115338103</td>\n",
              "      <td>Kreuzberg</td>\n",
              "      <td>first_time_use</td>\n",
              "      <td>1.0</td>\n",
              "      <td>1200.00</td>\n",
              "      <td>2020</td>\n",
              "      <td>29.33</td>\n",
              "      <td>973.510000</td>\n",
              "      <td>226.49</td>\n",
              "      <td>in</td>\n",
              "      <td>...</td>\n",
              "      <td>New</td>\n",
              "      <td>Gehobene Qualität</td>\n",
              "      <td>Central Heating</td>\n",
              "      <td>Fernwärme Energieausweis liegt vor</td>\n",
              "      <td>liegt vor</td>\n",
              "      <td>NaN</td>\n",
              "      <td>NaN</td>\n",
              "      <td>NaN</td>\n",
              "      <td>2920.53</td>\n",
              "      <td>5</td>\n",
              "    </tr>\n",
              "    <tr>\n",
              "      <th>2</th>\n",
              "      <td>https://www.immobilienscout24.de/expose/116458710</td>\n",
              "      <td>Köpenick</td>\n",
              "      <td>well_kept</td>\n",
              "      <td>2.0</td>\n",
              "      <td>979.00</td>\n",
              "      <td>1997</td>\n",
              "      <td>83.61</td>\n",
              "      <td>799.000000</td>\n",
              "      <td>90.00</td>\n",
              "      <td>+90€</td>\n",
              "      <td>...</td>\n",
              "      <td>Groomed</td>\n",
              "      <td>Normale Qualität</td>\n",
              "      <td>Central Heating</td>\n",
              "      <td>Fernwärme Energieausweis liegt vor</td>\n",
              "      <td>liegt vor</td>\n",
              "      <td>Verbrauchsausweis</td>\n",
              "      <td>NaN</td>\n",
              "      <td>NaN</td>\n",
              "      <td>2937.00</td>\n",
              "      <td>4</td>\n",
              "    </tr>\n",
              "    <tr>\n",
              "      <th>3</th>\n",
              "      <td>https://www.immobilienscout24.de/expose/116573177</td>\n",
              "      <td>Wilmersdorf</td>\n",
              "      <td>well_kept</td>\n",
              "      <td>4.0</td>\n",
              "      <td>1830.22</td>\n",
              "      <td>1900</td>\n",
              "      <td>171.18</td>\n",
              "      <td>911.544216</td>\n",
              "      <td>NaN</td>\n",
              "      <td>NaN</td>\n",
              "      <td>...</td>\n",
              "      <td>Unknown</td>\n",
              "      <td>NaN</td>\n",
              "      <td>other_heating_methods</td>\n",
              "      <td>NaN</td>\n",
              "      <td>NaN</td>\n",
              "      <td>NaN</td>\n",
              "      <td>NaN</td>\n",
              "      <td>NaN</td>\n",
              "      <td>5490.66</td>\n",
              "      <td>13</td>\n",
              "    </tr>\n",
              "    <tr>\n",
              "      <th>4</th>\n",
              "      <td>https://www.immobilienscout24.de/expose/115925878</td>\n",
              "      <td>Kreuzberg</td>\n",
              "      <td>first_time_use</td>\n",
              "      <td>2.0</td>\n",
              "      <td>2272.00</td>\n",
              "      <td>2020</td>\n",
              "      <td>88.27</td>\n",
              "      <td>1131.573505</td>\n",
              "      <td>NaN</td>\n",
              "      <td>NaN</td>\n",
              "      <td>...</td>\n",
              "      <td>New</td>\n",
              "      <td>Gehobene Qualität</td>\n",
              "      <td>Central Heating</td>\n",
              "      <td>Fernwärme Energieausweis liegt zur Besichtigun...</td>\n",
              "      <td>liegt zur Besichtigung vor</td>\n",
              "      <td>NaN</td>\n",
              "      <td>NaN</td>\n",
              "      <td>NaN</td>\n",
              "      <td>6816.00</td>\n",
              "      <td>8</td>\n",
              "    </tr>\n",
              "  </tbody>\n",
              "</table>\n",
              "<p>5 rows × 23 columns</p>\n",
              "</div>\n",
              "      <button class=\"colab-df-convert\" onclick=\"convertToInteractive('df-7fe2e6e5-1afa-4b00-b1d6-e1025cffa10d')\"\n",
              "              title=\"Convert this dataframe to an interactive table.\"\n",
              "              style=\"display:none;\">\n",
              "        \n",
              "  <svg xmlns=\"http://www.w3.org/2000/svg\" height=\"24px\"viewBox=\"0 0 24 24\"\n",
              "       width=\"24px\">\n",
              "    <path d=\"M0 0h24v24H0V0z\" fill=\"none\"/>\n",
              "    <path d=\"M18.56 5.44l.94 2.06.94-2.06 2.06-.94-2.06-.94-.94-2.06-.94 2.06-2.06.94zm-11 1L8.5 8.5l.94-2.06 2.06-.94-2.06-.94L8.5 2.5l-.94 2.06-2.06.94zm10 10l.94 2.06.94-2.06 2.06-.94-2.06-.94-.94-2.06-.94 2.06-2.06.94z\"/><path d=\"M17.41 7.96l-1.37-1.37c-.4-.4-.92-.59-1.43-.59-.52 0-1.04.2-1.43.59L10.3 9.45l-7.72 7.72c-.78.78-.78 2.05 0 2.83L4 21.41c.39.39.9.59 1.41.59.51 0 1.02-.2 1.41-.59l7.78-7.78 2.81-2.81c.8-.78.8-2.07 0-2.86zM5.41 20L4 18.59l7.72-7.72 1.47 1.35L5.41 20z\"/>\n",
              "  </svg>\n",
              "      </button>\n",
              "      \n",
              "  <style>\n",
              "    .colab-df-container {\n",
              "      display:flex;\n",
              "      flex-wrap:wrap;\n",
              "      gap: 12px;\n",
              "    }\n",
              "\n",
              "    .colab-df-convert {\n",
              "      background-color: #E8F0FE;\n",
              "      border: none;\n",
              "      border-radius: 50%;\n",
              "      cursor: pointer;\n",
              "      display: none;\n",
              "      fill: #1967D2;\n",
              "      height: 32px;\n",
              "      padding: 0 0 0 0;\n",
              "      width: 32px;\n",
              "    }\n",
              "\n",
              "    .colab-df-convert:hover {\n",
              "      background-color: #E2EBFA;\n",
              "      box-shadow: 0px 1px 2px rgba(60, 64, 67, 0.3), 0px 1px 3px 1px rgba(60, 64, 67, 0.15);\n",
              "      fill: #174EA6;\n",
              "    }\n",
              "\n",
              "    [theme=dark] .colab-df-convert {\n",
              "      background-color: #3B4455;\n",
              "      fill: #D2E3FC;\n",
              "    }\n",
              "\n",
              "    [theme=dark] .colab-df-convert:hover {\n",
              "      background-color: #434B5C;\n",
              "      box-shadow: 0px 1px 3px 1px rgba(0, 0, 0, 0.15);\n",
              "      filter: drop-shadow(0px 1px 2px rgba(0, 0, 0, 0.3));\n",
              "      fill: #FFFFFF;\n",
              "    }\n",
              "  </style>\n",
              "\n",
              "      <script>\n",
              "        const buttonEl =\n",
              "          document.querySelector('#df-7fe2e6e5-1afa-4b00-b1d6-e1025cffa10d button.colab-df-convert');\n",
              "        buttonEl.style.display =\n",
              "          google.colab.kernel.accessAllowed ? 'block' : 'none';\n",
              "\n",
              "        async function convertToInteractive(key) {\n",
              "          const element = document.querySelector('#df-7fe2e6e5-1afa-4b00-b1d6-e1025cffa10d');\n",
              "          const dataTable =\n",
              "            await google.colab.kernel.invokeFunction('convertToInteractive',\n",
              "                                                     [key], {});\n",
              "          if (!dataTable) return;\n",
              "\n",
              "          const docLinkHtml = 'Like what you see? Visit the ' +\n",
              "            '<a target=\"_blank\" href=https://colab.research.google.com/notebooks/data_table.ipynb>data table notebook</a>'\n",
              "            + ' to learn more about interactive tables.';\n",
              "          element.innerHTML = '';\n",
              "          dataTable['output_type'] = 'display_data';\n",
              "          await google.colab.output.renderOutput(dataTable, element);\n",
              "          const docLink = document.createElement('div');\n",
              "          docLink.innerHTML = docLinkHtml;\n",
              "          element.appendChild(docLink);\n",
              "        }\n",
              "      </script>\n",
              "    </div>\n",
              "  </div>\n",
              "  "
            ]
          },
          "metadata": {},
          "execution_count": 303
        }
      ]
    },
    {
      "cell_type": "markdown",
      "metadata": {
        "id": "HtIY4a3v9uas"
      },
      "source": [
        "## (Bonus) Clean: `type_of_certificate`\n",
        "\n",
        "Hint: could two features be created from this data?\n",
        "\n",
        "As with before, explain why you chose your strategy :)"
      ]
    },
    {
      "cell_type": "code",
      "metadata": {
        "id": "letuSY50-9w3",
        "colab": {
          "base_uri": "https://localhost:8080/"
        },
        "outputId": "2d163dd1-227b-4c7c-b730-230948eb8e0f"
      },
      "source": [
        "df[\"type_of_certificate\"].unique()"
      ],
      "execution_count": null,
      "outputs": [
        {
          "output_type": "execute_result",
          "data": {
            "text/plain": [
              "array(['Bedarfsausweis', nan,\n",
              "       'Verbrauchsausweis Energie\\xadver\\xadbrauchs\\xadkennwert 98,5 kWh/(m²*a)',\n",
              "       'Verbrauchsausweis Energie\\xadver\\xadbrauchs\\xadkennwert 84 kWh/(m²*a)',\n",
              "       'Verbrauchsausweis End\\xadenergie\\xadverbrauch 171,7 kWh/(m²*a)',\n",
              "       'Verbrauchsausweis Energie\\xadver\\xadbrauchs\\xadkennwert 74 kWh/(m²*a) Energieverbrauch für Warmwasser enthalten',\n",
              "       'Verbrauchsausweis End\\xadenergie\\xadverbrauch 109 kWh/(m²*a)',\n",
              "       'Verbrauchsausweis Energie\\xadver\\xadbrauchs\\xadkennwert 120,8 kWh/(m²*a)',\n",
              "       'Verbrauchsausweis End\\xadenergie\\xadverbrauch 204,3 kWh/(m²*a)',\n",
              "       'Verbrauchsausweis Energie\\xadver\\xadbrauchs\\xadkennwert 215 kWh/(m²*a)',\n",
              "       'Verbrauchsausweis End\\xadenergie\\xadverbrauch 218,2 kWh/(m²*a)',\n",
              "       'Verbrauchsausweis End\\xadenergie\\xadverbrauch 120 kWh/(m²*a)',\n",
              "       'Verbrauchsausweis',\n",
              "       'Verbrauchsausweis End\\xadenergie\\xadverbrauch 215 kWh/(m²*a)',\n",
              "       'Verbrauchsausweis End\\xadenergie\\xadverbrauch 219,5 kWh/(m²*a)',\n",
              "       'Verbrauchsausweis End\\xadenergie\\xadverbrauch 53 kWh/(m²*a)',\n",
              "       'Verbrauchsausweis End\\xadenergie\\xadverbrauch 113 kWh/(m²*a)',\n",
              "       'Verbrauchsausweis End\\xadenergie\\xadverbrauch 104,67 kWh/(m²*a)',\n",
              "       'Verbrauchsausweis End\\xadenergie\\xadverbrauch 132 kWh/(m²*a)',\n",
              "       'Verbrauchsausweis Energie\\xadver\\xadbrauchs\\xadkennwert 163 kWh/(m²*a)',\n",
              "       'Verbrauchsausweis End\\xadenergie\\xadverbrauch 128,1 kWh/(m²*a)',\n",
              "       'Verbrauchsausweis End\\xadenergie\\xadverbrauch 70 kWh/(m²*a)',\n",
              "       'Verbrauchsausweis End\\xadenergie\\xadverbrauch 126,4 kWh/(m²*a)',\n",
              "       'Verbrauchsausweis End\\xadenergie\\xadverbrauch 80 kWh/(m²*a)',\n",
              "       'Verbrauchsausweis End\\xadenergie\\xadverbrauch 101 kWh/(m²*a)',\n",
              "       'Verbrauchsausweis End\\xadenergie\\xadverbrauch 65,3 kWh/(m²*a)',\n",
              "       'Verbrauchsausweis Energie\\xadver\\xadbrauchs\\xadkennwert 123,9 kWh/(m²*a) Energieverbrauch für Warmwasser enthalten',\n",
              "       'Verbrauchsausweis Energie\\xadver\\xadbrauchs\\xadkennwert 123 kWh/(m²*a)',\n",
              "       'Verbrauchsausweis End\\xadenergie\\xadverbrauch 144,4 kWh/(m²*a)',\n",
              "       'Verbrauchsausweis End\\xadenergie\\xadverbrauch 78,34 kWh/(m²*a)',\n",
              "       'Verbrauchsausweis End\\xadenergie\\xadverbrauch 56,2 kWh/(m²*a)',\n",
              "       'Verbrauchsausweis End\\xadenergie\\xadverbrauch 136 kWh/(m²*a)',\n",
              "       'Verbrauchsausweis Energie\\xadver\\xadbrauchs\\xadkennwert 92 kWh/(m²*a) Energieverbrauch für Warmwasser enthalten',\n",
              "       'Verbrauchsausweis Energie\\xadver\\xadbrauchs\\xadkennwert 158,7 kWh/(m²*a) Energieverbrauch für Warmwasser enthalten',\n",
              "       'Verbrauchsausweis Energie\\xadver\\xadbrauchs\\xadkennwert 125 kWh/(m²*a)',\n",
              "       'Verbrauchsausweis End\\xadenergie\\xadverbrauch 97 kWh/(m²*a)',\n",
              "       'Verbrauchsausweis Energie\\xadver\\xadbrauchs\\xadkennwert 121 kWh/(m²*a) Energieverbrauch für Warmwasser enthalten',\n",
              "       'Verbrauchsausweis Energie\\xadver\\xadbrauchs\\xadkennwert 112,9 kWh/(m²*a)',\n",
              "       'Verbrauchsausweis Energie\\xadver\\xadbrauchs\\xadkennwert 123,9 kWh/(m²*a)',\n",
              "       'Verbrauchsausweis Energie\\xadver\\xadbrauchs\\xadkennwert 102 kWh/(m²*a) Energieverbrauch für Warmwasser enthalten',\n",
              "       'Verbrauchsausweis End\\xadenergie\\xadverbrauch 209 kWh/(m²*a)',\n",
              "       'Verbrauchsausweis Energie\\xadver\\xadbrauchs\\xadkennwert 144 kWh/(m²*a)',\n",
              "       'Verbrauchsausweis End\\xadenergie\\xadverbrauch 105,1 kWh/(m²*a)',\n",
              "       'Verbrauchsausweis End\\xadenergie\\xadverbrauch 105 kWh/(m²*a)',\n",
              "       'Verbrauchsausweis Energie\\xadver\\xadbrauchs\\xadkennwert 136,3 kWh/(m²*a)',\n",
              "       'Verbrauchsausweis Energie\\xadver\\xadbrauchs\\xadkennwert 144,2 kWh/(m²*a)',\n",
              "       'Verbrauchsausweis Energie\\xadver\\xadbrauchs\\xadkennwert 139 kWh/(m²*a)',\n",
              "       'Verbrauchsausweis End\\xadenergie\\xadverbrauch 177,5 kWh/(m²*a)',\n",
              "       'Verbrauchsausweis End\\xadenergie\\xadverbrauch 128,51 kWh/(m²*a)',\n",
              "       'Verbrauchsausweis End\\xadenergie\\xadverbrauch 62 kWh/(m²*a)',\n",
              "       'Verbrauchsausweis End\\xadenergie\\xadverbrauch 146,9 kWh/(m²*a)',\n",
              "       'Verbrauchsausweis Energie\\xadver\\xadbrauchs\\xadkennwert 192,92 kWh/(m²*a) Energieverbrauch für Warmwasser enthalten',\n",
              "       'Verbrauchsausweis Energie\\xadver\\xadbrauchs\\xadkennwert 126 kWh/(m²*a) Energieverbrauch für Warmwasser enthalten',\n",
              "       'Verbrauchsausweis End\\xadenergie\\xadverbrauch 72,82 kWh/(m²*a)',\n",
              "       'Verbrauchsausweis Energie\\xadver\\xadbrauchs\\xadkennwert 120 kWh/(m²*a)',\n",
              "       'Verbrauchsausweis End\\xadenergie\\xadverbrauch 87,98 kWh/(m²*a)',\n",
              "       'Verbrauchsausweis Energie\\xadver\\xadbrauchs\\xadkennwert 128 kWh/(m²*a)',\n",
              "       'Verbrauchsausweis End\\xadenergie\\xadverbrauch 170,8 kWh/(m²*a)',\n",
              "       'Verbrauchsausweis End\\xadenergie\\xadverbrauch 103,8 kWh/(m²*a)',\n",
              "       'Verbrauchsausweis End\\xadenergie\\xadverbrauch 93,7 kWh/(m²*a)',\n",
              "       'Verbrauchsausweis Energie\\xadver\\xadbrauchs\\xadkennwert 148 kWh/(m²*a) Energieverbrauch für Warmwasser enthalten',\n",
              "       'Verbrauchsausweis Energie\\xadver\\xadbrauchs\\xadkennwert 146,8 kWh/(m²*a)',\n",
              "       'Verbrauchsausweis Energie\\xadver\\xadbrauchs\\xadkennwert 109 kWh/(m²*a)',\n",
              "       'Verbrauchsausweis End\\xadenergie\\xadverbrauch 63,4 kWh/(m²*a)',\n",
              "       'Verbrauchsausweis Energie\\xadver\\xadbrauchs\\xadkennwert 98,6 kWh/(m²*a)',\n",
              "       'Verbrauchsausweis Energie\\xadver\\xadbrauchs\\xadkennwert 174 kWh/(m²*a) Energieverbrauch für Warmwasser enthalten',\n",
              "       'Verbrauchsausweis End\\xadenergie\\xadverbrauch 172,5 kWh/(m²*a)',\n",
              "       'Verbrauchsausweis Energie\\xadver\\xadbrauchs\\xadkennwert 130,9 kWh/(m²*a) Energieverbrauch für Warmwasser enthalten',\n",
              "       'Verbrauchsausweis End\\xadenergie\\xadverbrauch 66,21 kWh/(m²*a)',\n",
              "       'Verbrauchsausweis Energie\\xadver\\xadbrauchs\\xadkennwert 81,9 kWh/(m²*a)',\n",
              "       'Verbrauchsausweis End\\xadenergie\\xadverbrauch 128 kWh/(m²*a)',\n",
              "       'Verbrauchsausweis Energie\\xadver\\xadbrauchs\\xadkennwert 64 kWh/(m²*a)',\n",
              "       'Verbrauchsausweis Energie\\xadver\\xadbrauchs\\xadkennwert 116,1 kWh/(m²*a)',\n",
              "       'Verbrauchsausweis End\\xadenergie\\xadverbrauch 141 kWh/(m²*a)',\n",
              "       'Verbrauchsausweis End\\xadenergie\\xadverbrauch 197 kWh/(m²*a)',\n",
              "       'Verbrauchsausweis End\\xadenergie\\xadverbrauch 186 kWh/(m²*a)',\n",
              "       'Verbrauchsausweis Energie\\xadver\\xadbrauchs\\xadkennwert 131 kWh/(m²*a) Energieverbrauch für Warmwasser enthalten',\n",
              "       'Verbrauchsausweis End\\xadenergie\\xadverbrauch 65,4 kWh/(m²*a)',\n",
              "       'Verbrauchsausweis End\\xadenergie\\xadverbrauch 97,4 kWh/(m²*a)',\n",
              "       'Verbrauchsausweis Energie\\xadver\\xadbrauchs\\xadkennwert 207,5 kWh/(m²*a)',\n",
              "       'Verbrauchsausweis Energie\\xadver\\xadbrauchs\\xadkennwert 187,9 kWh/(m²*a)',\n",
              "       'Verbrauchsausweis Energie\\xadver\\xadbrauchs\\xadkennwert 82,5 kWh/(m²*a)',\n",
              "       'Verbrauchsausweis End\\xadenergie\\xadverbrauch 89 kWh/(m²*a)',\n",
              "       'Verbrauchsausweis Energie\\xadver\\xadbrauchs\\xadkennwert 119,1 kWh/(m²*a)',\n",
              "       'Verbrauchsausweis End\\xadenergie\\xadverbrauch 86 kWh/(m²*a)',\n",
              "       'Verbrauchsausweis Energie\\xadver\\xadbrauchs\\xadkennwert 91,4 kWh/(m²*a)'],\n",
              "      dtype=object)"
            ]
          },
          "metadata": {},
          "execution_count": 289
        }
      ]
    },
    {
      "cell_type": "code",
      "source": [
        "df[\"type_of_certificate\"] = df.type_of_certificate.str.split(\" \",expand=True)[0]"
      ],
      "metadata": {
        "id": "6f5FCBWk16We"
      },
      "execution_count": null,
      "outputs": []
    },
    {
      "cell_type": "code",
      "source": [
        "df['type_of_certificate'] = df.type_of_certificate.fillna('Bedarfsausweis')"
      ],
      "metadata": {
        "id": "xrH_8bvGJ-oJ"
      },
      "execution_count": null,
      "outputs": []
    },
    {
      "cell_type": "code",
      "source": [
        "df.head()"
      ],
      "metadata": {
        "colab": {
          "base_uri": "https://localhost:8080/",
          "height": 421
        },
        "id": "tZIPcFSbKbbA",
        "outputId": "77fb9ac0-9ab9-4bb4-b4b9-b83632636801"
      },
      "execution_count": null,
      "outputs": [
        {
          "output_type": "execute_result",
          "data": {
            "text/plain": [
              "                                                 url       region  \\\n",
              "0  https://www.immobilienscout24.de/expose/116051687        Mitte   \n",
              "1  https://www.immobilienscout24.de/expose/115338103    Kreuzberg   \n",
              "2  https://www.immobilienscout24.de/expose/116458710     Köpenick   \n",
              "3  https://www.immobilienscout24.de/expose/116573177  Wilmersdorf   \n",
              "4  https://www.immobilienscout24.de/expose/115925878    Kreuzberg   \n",
              "\n",
              "        condition  rooms     rent  year_construction   space    cold_rent  \\\n",
              "0  first_time_use    4.0  2659.00               2019  117.20  2199.000000   \n",
              "1  first_time_use    1.0  1200.00               2020   29.33   973.510000   \n",
              "2       well_kept    2.0   979.00               1997   83.61   799.000000   \n",
              "3       well_kept    4.0  1830.22               1900  171.18   911.544216   \n",
              "4  first_time_use    2.0  2272.00               2020   88.27  1131.573505   \n",
              "\n",
              "   utilities heating_costs  ... property_condition         furnishing  \\\n",
              "0     460.00            in  ...                New                NaN   \n",
              "1     226.49            in  ...                New  Gehobene Qualität   \n",
              "2      90.00          +90€  ...            Groomed   Normale Qualität   \n",
              "3        NaN           NaN  ...            Unknown                NaN   \n",
              "4        NaN           NaN  ...                New  Gehobene Qualität   \n",
              "\n",
              "            heating_type                                     energy_sources  \\\n",
              "0     Underfloor Heating                                                NaN   \n",
              "1        Central Heating                 Fernwärme Energieausweis liegt vor   \n",
              "2        Central Heating                 Fernwärme Energieausweis liegt vor   \n",
              "3  other_heating_methods                                                NaN   \n",
              "4        Central Heating  Fernwärme Energieausweis liegt zur Besichtigun...   \n",
              "\n",
              "           energy_certificate type_of_certificate energy_requirement  \\\n",
              "0                         NaN      Bedarfsausweis                NaN   \n",
              "1                   liegt vor      Bedarfsausweis                NaN   \n",
              "2                   liegt vor   Verbrauchsausweis                NaN   \n",
              "3                         NaN      Bedarfsausweis                NaN   \n",
              "4  liegt zur Besichtigung vor      Bedarfsausweis                NaN   \n",
              "\n",
              "  efficiency_class deposit_cleaned  n_missing  \n",
              "0                B         7977.00          5  \n",
              "1              NaN         2920.53          5  \n",
              "2              NaN         2937.00          4  \n",
              "3              NaN         5490.66         13  \n",
              "4              NaN         6816.00          8  \n",
              "\n",
              "[5 rows x 23 columns]"
            ],
            "text/html": [
              "\n",
              "  <div id=\"df-f3530107-9a4b-4984-bc4d-d2a94b34fb99\">\n",
              "    <div class=\"colab-df-container\">\n",
              "      <div>\n",
              "<style scoped>\n",
              "    .dataframe tbody tr th:only-of-type {\n",
              "        vertical-align: middle;\n",
              "    }\n",
              "\n",
              "    .dataframe tbody tr th {\n",
              "        vertical-align: top;\n",
              "    }\n",
              "\n",
              "    .dataframe thead th {\n",
              "        text-align: right;\n",
              "    }\n",
              "</style>\n",
              "<table border=\"1\" class=\"dataframe\">\n",
              "  <thead>\n",
              "    <tr style=\"text-align: right;\">\n",
              "      <th></th>\n",
              "      <th>url</th>\n",
              "      <th>region</th>\n",
              "      <th>condition</th>\n",
              "      <th>rooms</th>\n",
              "      <th>rent</th>\n",
              "      <th>year_construction</th>\n",
              "      <th>space</th>\n",
              "      <th>cold_rent</th>\n",
              "      <th>utilities</th>\n",
              "      <th>heating_costs</th>\n",
              "      <th>...</th>\n",
              "      <th>property_condition</th>\n",
              "      <th>furnishing</th>\n",
              "      <th>heating_type</th>\n",
              "      <th>energy_sources</th>\n",
              "      <th>energy_certificate</th>\n",
              "      <th>type_of_certificate</th>\n",
              "      <th>energy_requirement</th>\n",
              "      <th>efficiency_class</th>\n",
              "      <th>deposit_cleaned</th>\n",
              "      <th>n_missing</th>\n",
              "    </tr>\n",
              "  </thead>\n",
              "  <tbody>\n",
              "    <tr>\n",
              "      <th>0</th>\n",
              "      <td>https://www.immobilienscout24.de/expose/116051687</td>\n",
              "      <td>Mitte</td>\n",
              "      <td>first_time_use</td>\n",
              "      <td>4.0</td>\n",
              "      <td>2659.00</td>\n",
              "      <td>2019</td>\n",
              "      <td>117.20</td>\n",
              "      <td>2199.000000</td>\n",
              "      <td>460.00</td>\n",
              "      <td>in</td>\n",
              "      <td>...</td>\n",
              "      <td>New</td>\n",
              "      <td>NaN</td>\n",
              "      <td>Underfloor Heating</td>\n",
              "      <td>NaN</td>\n",
              "      <td>NaN</td>\n",
              "      <td>Bedarfsausweis</td>\n",
              "      <td>NaN</td>\n",
              "      <td>B</td>\n",
              "      <td>7977.00</td>\n",
              "      <td>5</td>\n",
              "    </tr>\n",
              "    <tr>\n",
              "      <th>1</th>\n",
              "      <td>https://www.immobilienscout24.de/expose/115338103</td>\n",
              "      <td>Kreuzberg</td>\n",
              "      <td>first_time_use</td>\n",
              "      <td>1.0</td>\n",
              "      <td>1200.00</td>\n",
              "      <td>2020</td>\n",
              "      <td>29.33</td>\n",
              "      <td>973.510000</td>\n",
              "      <td>226.49</td>\n",
              "      <td>in</td>\n",
              "      <td>...</td>\n",
              "      <td>New</td>\n",
              "      <td>Gehobene Qualität</td>\n",
              "      <td>Central Heating</td>\n",
              "      <td>Fernwärme Energieausweis liegt vor</td>\n",
              "      <td>liegt vor</td>\n",
              "      <td>Bedarfsausweis</td>\n",
              "      <td>NaN</td>\n",
              "      <td>NaN</td>\n",
              "      <td>2920.53</td>\n",
              "      <td>5</td>\n",
              "    </tr>\n",
              "    <tr>\n",
              "      <th>2</th>\n",
              "      <td>https://www.immobilienscout24.de/expose/116458710</td>\n",
              "      <td>Köpenick</td>\n",
              "      <td>well_kept</td>\n",
              "      <td>2.0</td>\n",
              "      <td>979.00</td>\n",
              "      <td>1997</td>\n",
              "      <td>83.61</td>\n",
              "      <td>799.000000</td>\n",
              "      <td>90.00</td>\n",
              "      <td>+90€</td>\n",
              "      <td>...</td>\n",
              "      <td>Groomed</td>\n",
              "      <td>Normale Qualität</td>\n",
              "      <td>Central Heating</td>\n",
              "      <td>Fernwärme Energieausweis liegt vor</td>\n",
              "      <td>liegt vor</td>\n",
              "      <td>Verbrauchsausweis</td>\n",
              "      <td>NaN</td>\n",
              "      <td>NaN</td>\n",
              "      <td>2937.00</td>\n",
              "      <td>4</td>\n",
              "    </tr>\n",
              "    <tr>\n",
              "      <th>3</th>\n",
              "      <td>https://www.immobilienscout24.de/expose/116573177</td>\n",
              "      <td>Wilmersdorf</td>\n",
              "      <td>well_kept</td>\n",
              "      <td>4.0</td>\n",
              "      <td>1830.22</td>\n",
              "      <td>1900</td>\n",
              "      <td>171.18</td>\n",
              "      <td>911.544216</td>\n",
              "      <td>NaN</td>\n",
              "      <td>NaN</td>\n",
              "      <td>...</td>\n",
              "      <td>Unknown</td>\n",
              "      <td>NaN</td>\n",
              "      <td>other_heating_methods</td>\n",
              "      <td>NaN</td>\n",
              "      <td>NaN</td>\n",
              "      <td>Bedarfsausweis</td>\n",
              "      <td>NaN</td>\n",
              "      <td>NaN</td>\n",
              "      <td>5490.66</td>\n",
              "      <td>13</td>\n",
              "    </tr>\n",
              "    <tr>\n",
              "      <th>4</th>\n",
              "      <td>https://www.immobilienscout24.de/expose/115925878</td>\n",
              "      <td>Kreuzberg</td>\n",
              "      <td>first_time_use</td>\n",
              "      <td>2.0</td>\n",
              "      <td>2272.00</td>\n",
              "      <td>2020</td>\n",
              "      <td>88.27</td>\n",
              "      <td>1131.573505</td>\n",
              "      <td>NaN</td>\n",
              "      <td>NaN</td>\n",
              "      <td>...</td>\n",
              "      <td>New</td>\n",
              "      <td>Gehobene Qualität</td>\n",
              "      <td>Central Heating</td>\n",
              "      <td>Fernwärme Energieausweis liegt zur Besichtigun...</td>\n",
              "      <td>liegt zur Besichtigung vor</td>\n",
              "      <td>Bedarfsausweis</td>\n",
              "      <td>NaN</td>\n",
              "      <td>NaN</td>\n",
              "      <td>6816.00</td>\n",
              "      <td>8</td>\n",
              "    </tr>\n",
              "  </tbody>\n",
              "</table>\n",
              "<p>5 rows × 23 columns</p>\n",
              "</div>\n",
              "      <button class=\"colab-df-convert\" onclick=\"convertToInteractive('df-f3530107-9a4b-4984-bc4d-d2a94b34fb99')\"\n",
              "              title=\"Convert this dataframe to an interactive table.\"\n",
              "              style=\"display:none;\">\n",
              "        \n",
              "  <svg xmlns=\"http://www.w3.org/2000/svg\" height=\"24px\"viewBox=\"0 0 24 24\"\n",
              "       width=\"24px\">\n",
              "    <path d=\"M0 0h24v24H0V0z\" fill=\"none\"/>\n",
              "    <path d=\"M18.56 5.44l.94 2.06.94-2.06 2.06-.94-2.06-.94-.94-2.06-.94 2.06-2.06.94zm-11 1L8.5 8.5l.94-2.06 2.06-.94-2.06-.94L8.5 2.5l-.94 2.06-2.06.94zm10 10l.94 2.06.94-2.06 2.06-.94-2.06-.94-.94-2.06-.94 2.06-2.06.94z\"/><path d=\"M17.41 7.96l-1.37-1.37c-.4-.4-.92-.59-1.43-.59-.52 0-1.04.2-1.43.59L10.3 9.45l-7.72 7.72c-.78.78-.78 2.05 0 2.83L4 21.41c.39.39.9.59 1.41.59.51 0 1.02-.2 1.41-.59l7.78-7.78 2.81-2.81c.8-.78.8-2.07 0-2.86zM5.41 20L4 18.59l7.72-7.72 1.47 1.35L5.41 20z\"/>\n",
              "  </svg>\n",
              "      </button>\n",
              "      \n",
              "  <style>\n",
              "    .colab-df-container {\n",
              "      display:flex;\n",
              "      flex-wrap:wrap;\n",
              "      gap: 12px;\n",
              "    }\n",
              "\n",
              "    .colab-df-convert {\n",
              "      background-color: #E8F0FE;\n",
              "      border: none;\n",
              "      border-radius: 50%;\n",
              "      cursor: pointer;\n",
              "      display: none;\n",
              "      fill: #1967D2;\n",
              "      height: 32px;\n",
              "      padding: 0 0 0 0;\n",
              "      width: 32px;\n",
              "    }\n",
              "\n",
              "    .colab-df-convert:hover {\n",
              "      background-color: #E2EBFA;\n",
              "      box-shadow: 0px 1px 2px rgba(60, 64, 67, 0.3), 0px 1px 3px 1px rgba(60, 64, 67, 0.15);\n",
              "      fill: #174EA6;\n",
              "    }\n",
              "\n",
              "    [theme=dark] .colab-df-convert {\n",
              "      background-color: #3B4455;\n",
              "      fill: #D2E3FC;\n",
              "    }\n",
              "\n",
              "    [theme=dark] .colab-df-convert:hover {\n",
              "      background-color: #434B5C;\n",
              "      box-shadow: 0px 1px 3px 1px rgba(0, 0, 0, 0.15);\n",
              "      filter: drop-shadow(0px 1px 2px rgba(0, 0, 0, 0.3));\n",
              "      fill: #FFFFFF;\n",
              "    }\n",
              "  </style>\n",
              "\n",
              "      <script>\n",
              "        const buttonEl =\n",
              "          document.querySelector('#df-f3530107-9a4b-4984-bc4d-d2a94b34fb99 button.colab-df-convert');\n",
              "        buttonEl.style.display =\n",
              "          google.colab.kernel.accessAllowed ? 'block' : 'none';\n",
              "\n",
              "        async function convertToInteractive(key) {\n",
              "          const element = document.querySelector('#df-f3530107-9a4b-4984-bc4d-d2a94b34fb99');\n",
              "          const dataTable =\n",
              "            await google.colab.kernel.invokeFunction('convertToInteractive',\n",
              "                                                     [key], {});\n",
              "          if (!dataTable) return;\n",
              "\n",
              "          const docLinkHtml = 'Like what you see? Visit the ' +\n",
              "            '<a target=\"_blank\" href=https://colab.research.google.com/notebooks/data_table.ipynb>data table notebook</a>'\n",
              "            + ' to learn more about interactive tables.';\n",
              "          element.innerHTML = '';\n",
              "          dataTable['output_type'] = 'display_data';\n",
              "          await google.colab.output.renderOutput(dataTable, element);\n",
              "          const docLink = document.createElement('div');\n",
              "          docLink.innerHTML = docLinkHtml;\n",
              "          element.appendChild(docLink);\n",
              "        }\n",
              "      </script>\n",
              "    </div>\n",
              "  </div>\n",
              "  "
            ]
          },
          "metadata": {},
          "execution_count": 310
        }
      ]
    },
    {
      "cell_type": "code",
      "source": [
        "df.dtypes"
      ],
      "metadata": {
        "colab": {
          "base_uri": "https://localhost:8080/"
        },
        "id": "F9w2LH827t7p",
        "outputId": "bce1f5f4-ecaa-4a98-ebd6-25a03ee84e9f"
      },
      "execution_count": null,
      "outputs": [
        {
          "output_type": "execute_result",
          "data": {
            "text/plain": [
              "url                            object\n",
              "region                         object\n",
              "condition                      object\n",
              "rooms                         float64\n",
              "rent                          float64\n",
              "year_construction               int64\n",
              "space                         float64\n",
              "cold_rent                     float64\n",
              "utilities                     float64\n",
              "heating_costs                  object\n",
              "security_deposit               object\n",
              "parking_space                 float64\n",
              "renovated_date         datetime64[ns]\n",
              "property_condition             object\n",
              "furnishing                     object\n",
              "heating_type                   object\n",
              "energy_sources                 object\n",
              "energy_certificate             object\n",
              "type_of_certificate            object\n",
              "energy_requirement            float64\n",
              "efficiency_class               object\n",
              "deposit_cleaned               float64\n",
              "n_missing                       int64\n",
              "dtype: object"
            ]
          },
          "metadata": {},
          "execution_count": 291
        }
      ]
    },
    {
      "cell_type": "code",
      "source": [
        "(df.isnull().sum()).sort_values(ascending = False)"
      ],
      "metadata": {
        "colab": {
          "base_uri": "https://localhost:8080/"
        },
        "id": "ujaDMVGh62JE",
        "outputId": "00b1f14b-aa3f-41f8-f870-4f543738b8bc"
      },
      "execution_count": null,
      "outputs": [
        {
          "output_type": "execute_result",
          "data": {
            "text/plain": [
              "efficiency_class       513\n",
              "heating_costs          338\n",
              "furnishing             319\n",
              "energy_certificate     313\n",
              "energy_sources         270\n",
              "parking_space           29\n",
              "utilities                8\n",
              "energy_requirement       1\n",
              "renovated_date           1\n",
              "property_condition       0\n",
              "deposit_cleaned          0\n",
              "type_of_certificate      0\n",
              "heating_type             0\n",
              "url                      0\n",
              "region                   0\n",
              "security_deposit         0\n",
              "cold_rent                0\n",
              "space                    0\n",
              "year_construction        0\n",
              "rent                     0\n",
              "rooms                    0\n",
              "condition                0\n",
              "n_missing                0\n",
              "dtype: int64"
            ]
          },
          "metadata": {},
          "execution_count": 316
        }
      ]
    },
    {
      "cell_type": "markdown",
      "metadata": {
        "id": "xnQMN5CQt90T"
      },
      "source": [
        "--- \n",
        "# Review\n",
        "\n",
        "This section is only for the reviewing team!\n",
        "\n",
        "Guideline how to review:\n",
        "https://docs.google.com/presentation/d/1YORFwlfVQo9ogj7jR9t6_pqxmGIlpBSGubbp1UdtcBQ/edit?usp=sharing\n"
      ]
    },
    {
      "cell_type": "code",
      "metadata": {
        "colab": {
          "base_uri": "https://localhost:8080/",
          "height": 203
        },
        "id": "t_oU8YSOt-b0",
        "outputId": "55a6f79b-d2a4-4707-f67f-01e452a6d4bb"
      },
      "source": [
        "#@title Review Criteria:\n",
        "%%html\n",
        "<h3><input type=\"checkbox\"> 1. Are all questions answered? <br></h3>\n",
        "<h3><input type=\"checkbox\"> 2. Does all code run through? <br></h3>\n",
        "<h3><input type=\"checkbox\"> 3. Are explanations of fill strategy provided for all relevant questions?  <br></h3>\n",
        "<h3><input type=\"checkbox\"> 4. Are different strategies used for continuous vs categorical data?  <br></h3>\n",
        "<h3><input type=\"checkbox\"> 5. Is the bonus question answered?  <br></h3> "
      ],
      "execution_count": null,
      "outputs": [
        {
          "output_type": "display_data",
          "data": {
            "text/html": [
              "<h3><input type=\"checkbox\"> 1. Are all questions answered? <br></h3>\n",
              "<h3><input type=\"checkbox\"> 2. Does all code run through? <br></h3>\n",
              "<h3><input type=\"checkbox\"> 3. Are explanations of fill strategy provided for all relevant questions?  <br></h3>\n",
              "<h3><input type=\"checkbox\"> 4. Are different strategies used for continuous vs categorical data?  <br></h3>\n",
              "<h3><input type=\"checkbox\"> 5. Is the bonus question answered?  <br></h3> "
            ],
            "text/plain": [
              "<IPython.core.display.HTML object>"
            ]
          },
          "metadata": {
            "tags": []
          }
        }
      ]
    },
    {
      "cell_type": "code",
      "metadata": {
        "id": "vrmrmS4BavqM"
      },
      "source": [
        ""
      ],
      "execution_count": null,
      "outputs": []
    }
  ]
}